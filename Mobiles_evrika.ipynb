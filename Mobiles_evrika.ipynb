{
  "nbformat": 4,
  "nbformat_minor": 0,
  "metadata": {
    "colab": {
      "name": "Mobiles-evrika.ipynb",
      "provenance": [],
      "collapsed_sections": []
    },
    "kernelspec": {
      "display_name": "Python 3",
      "name": "python3"
    },
    "language_info": {
      "name": "python"
    }
  },
  "cells": [
    {
      "cell_type": "code",
      "metadata": {
        "colab": {
          "base_uri": "https://localhost:8080/"
        },
        "id": "7aYXpU82NnX_",
        "outputId": "d21568f3-3aa2-4d7f-b798-3c00efcd5219"
      },
      "source": [
        "## Week 7\n",
        "from bs4 import BeautifulSoup\n",
        "import requests\n",
        "import re\n",
        "import csv\n",
        "import pip\n",
        "\n",
        "\n",
        "url = 'https://evrika.com/catalog/smartfony/c234'\n",
        "urlToParse = 'https://evrika.com/catalog/smartfony/c234'\n",
        "f = csv.writer(open('mobiles-2.csv', 'w', newline=''))\n",
        "f.writerow(['Названия товара', 'Код товара', 'Цена', 'Кредит/Рассрочка', 'Цвет', 'Размеры', 'Процессор', 'Операционная система', 'Количество ядер', 'Количество SIM карт'\n",
        ", 'Емкость аккумулятора', 'Разъемы', 'Диагональ дисплея', 'Разрешение экрана (пикс)'\n",
        ", 'Фронтальная камера Мпикс', 'Объем встроенной памяти', 'Объем оперативной памяти', 'Модель'])\n"
      ],
      "execution_count": null,
      "outputs": [
        {
          "output_type": "execute_result",
          "data": {
            "text/plain": [
              "283"
            ]
          },
          "metadata": {},
          "execution_count": 1
        }
      ]
    },
    {
      "cell_type": "code",
      "metadata": {
        "colab": {
          "base_uri": "https://localhost:8080/"
        },
        "id": "maa8ShcdOCHd",
        "outputId": "e8cbdb28-8eb2-4ff2-da1d-ff865e85877d"
      },
      "source": [
        "for i in range(1, 20):\n",
        "    urlToParse = url + '?page=' + str(i)\n",
        "    page = requests.get(urlToParse)\n",
        "    soup = BeautifulSoup(page.text, 'html.parser')\n",
        "    productCards = soup.findAll('div', {'class': 'goods-tile__top'})\n",
        "    for productCard in productCards:\n",
        "      link = productCard.find(\"a\", class_=\"goods-tile__image\")['href']\n",
        "      detailPage = requests.get(link)\n",
        "      soup = BeautifulSoup(detailPage.text, 'html.parser')\n",
        "      title = soup.find('div', class_='goods-title').text.strip()\n",
        "      articul = soup.find('div', class_='goods-code').text.split('Код:')[1].strip()\n",
        "      price = soup.find('div', class_='cost__value').text.strip()\n",
        "      creditPrice = soup.find('div', class_='goods-credit__price').text.strip()\n",
        "      productDetails = soup.findAll('div', {'class': 'specs-group'})\n",
        "      color = None\n",
        "      size = None\n",
        "      proccessor = None\n",
        "      system = None\n",
        "      number_of_kernel = None\n",
        "      number_of_sims = None\n",
        "      battery_capacity = None\n",
        "      connectors = None\n",
        "      display_diagonal = None\n",
        "      display_pixel = None\n",
        "      front_camera = None\n",
        "      builtin_memory_capacity = None\n",
        "      memory_capacity = None\n",
        "      model = None\n",
        "      for detail in productDetails:\n",
        "        specGroup = detail.findAll('div', {'class': 'specs-group__i'})\n",
        "        for specilaDetail in specGroup:\n",
        "          if specilaDetail.find('div', {'class': 'specs-group__i-name'}).find('span').text == \"Цвет\":\n",
        "            color = specilaDetail.find('div', {'class': 'specs-group__i-values'}).text.strip()\n",
        "          elif specilaDetail.find('div', {'class': 'specs-group__i-name'}).find('span').text == \"Размеры\":\n",
        "            size = specilaDetail.find('div', {'class': 'specs-group__i-values'}).text.strip()\n",
        "          elif specilaDetail.find('div', {'class': 'specs-group__i-name'}).find('span').text == \"Процессор\":\n",
        "            proccessor = specilaDetail.find('div', {'class': 'specs-group__i-values'}).text.strip()\n",
        "          elif specilaDetail.find('div', {'class': 'specs-group__i-name'}).find('span').text == \"Операционная система\":\n",
        "            system = specilaDetail.find('div', {'class': 'specs-group__i-values'}).text.strip()\n",
        "          elif specilaDetail.find('div', {'class': 'specs-group__i-name'}).find('span').text == \"Количество ядер\":\n",
        "            number_of_kernel = specilaDetail.find('div', {'class': 'specs-group__i-values'}).text.strip()\n",
        "          elif specilaDetail.find('div', {'class': 'specs-group__i-name'}).find('span').text == \"Количество SIM карт\":\n",
        "            number_of_sims = specilaDetail.find('div', {'class': 'specs-group__i-values'}).text.strip()\n",
        "          elif specilaDetail.find('div', {'class': 'specs-group__i-name'}).find('span').text == \"Емкость аккумулятора\":\n",
        "            battery_capacity = specilaDetail.find('div', {'class': 'specs-group__i-values'}).text.strip()\n",
        "          elif specilaDetail.find('div', {'class': 'specs-group__i-name'}).find('span').text == \"Разъемы\":\n",
        "            connectors = specilaDetail.find('div', {'class': 'specs-group__i-values'}).text.strip()\n",
        "          elif specilaDetail.find('div', {'class': 'specs-group__i-name'}).find('span').text == \"Диагональ дисплея\":\n",
        "            display_diagonal = specilaDetail.find('div', {'class': 'specs-group__i-values'}).text.strip()\n",
        "          elif specilaDetail.find('div', {'class': 'specs-group__i-name'}).find('span').text == \"Разрешение экрана (пикс)\":\n",
        "            display_pixel = specilaDetail.find('div', {'class': 'specs-group__i-values'}).text.strip()\n",
        "          elif specilaDetail.find('div', {'class': 'specs-group__i-name'}).find('span').text == \"Фронтальная камера Мпикс\":\n",
        "            front_camera = specilaDetail.find('div', {'class': 'specs-group__i-values'}).text.strip()\n",
        "          elif specilaDetail.find('div', {'class': 'specs-group__i-name'}).find('span').text == \"Объем встроенной памяти\":\n",
        "            builtin_memory_capacity = specilaDetail.find('div', {'class': 'specs-group__i-values'}).text.strip()\n",
        "          elif specilaDetail.find('div', {'class': 'specs-group__i-name'}).find('span').text == \"Объем оперативной памяти\":\n",
        "            memory_capacity = specilaDetail.find('div', {'class': 'specs-group__i-values'}).text.strip()\n",
        "          elif specilaDetail.find('div', {'class': 'specs-group__i-name'}).find('span').text == \"Модель\":\n",
        "            model = specilaDetail.find('div', {'class': 'specs-group__i-values'}).text.strip()\n",
        "      parsed_data = [title, articul, price, creditPrice, color, size, proccessor, system, number_of_kernel, number_of_sims, battery_capacity, connectors, display_diagonal, display_pixel, front_camera, builtin_memory_capacity, memory_capacity, model]\n",
        "      f.writerow(parsed_data)\n",
        "    print(urlToParse)\n"
      ],
      "execution_count": null,
      "outputs": [
        {
          "output_type": "stream",
          "name": "stdout",
          "text": [
            "https://evrika.com/catalog/smartfony/c234?page=1\n",
            "https://evrika.com/catalog/smartfony/c234?page=2\n",
            "https://evrika.com/catalog/smartfony/c234?page=3\n",
            "https://evrika.com/catalog/smartfony/c234?page=4\n",
            "https://evrika.com/catalog/smartfony/c234?page=5\n",
            "https://evrika.com/catalog/smartfony/c234?page=6\n",
            "https://evrika.com/catalog/smartfony/c234?page=7\n",
            "https://evrika.com/catalog/smartfony/c234?page=8\n",
            "https://evrika.com/catalog/smartfony/c234?page=9\n",
            "https://evrika.com/catalog/smartfony/c234?page=10\n",
            "https://evrika.com/catalog/smartfony/c234?page=11\n",
            "https://evrika.com/catalog/smartfony/c234?page=12\n",
            "https://evrika.com/catalog/smartfony/c234?page=13\n",
            "https://evrika.com/catalog/smartfony/c234?page=14\n",
            "https://evrika.com/catalog/smartfony/c234?page=15\n",
            "https://evrika.com/catalog/smartfony/c234?page=16\n",
            "https://evrika.com/catalog/smartfony/c234?page=17\n",
            "https://evrika.com/catalog/smartfony/c234?page=18\n",
            "https://evrika.com/catalog/smartfony/c234?page=19\n"
          ]
        }
      ]
    },
    {
      "cell_type": "markdown",
      "metadata": {
        "id": "kwmTZfSbkPps"
      },
      "source": [
        "8"
      ]
    },
    {
      "cell_type": "markdown",
      "metadata": {
        "id": "0osYYdRRkP97"
      },
      "source": [
        ""
      ]
    },
    {
      "cell_type": "code",
      "metadata": {
        "colab": {
          "base_uri": "https://localhost:8080/",
          "height": 1000
        },
        "id": "Vqo3QQwiIdCn",
        "outputId": "2515a5c3-ea9f-4ff3-ec3f-7ca1d574c06b"
      },
      "source": [
        "import pandas as pd\n",
        "data = pd.read_csv(\"mobiles-2.csv\")\n",
        "data\n",
        "\n"
      ],
      "execution_count": null,
      "outputs": [
        {
          "output_type": "execute_result",
          "data": {
            "text/html": [
              "<div>\n",
              "<style scoped>\n",
              "    .dataframe tbody tr th:only-of-type {\n",
              "        vertical-align: middle;\n",
              "    }\n",
              "\n",
              "    .dataframe tbody tr th {\n",
              "        vertical-align: top;\n",
              "    }\n",
              "\n",
              "    .dataframe thead th {\n",
              "        text-align: right;\n",
              "    }\n",
              "</style>\n",
              "<table border=\"1\" class=\"dataframe\">\n",
              "  <thead>\n",
              "    <tr style=\"text-align: right;\">\n",
              "      <th></th>\n",
              "      <th>Названия товара</th>\n",
              "      <th>Код товара</th>\n",
              "      <th>Цена</th>\n",
              "      <th>Кредит/Рассрочка</th>\n",
              "      <th>Цвет</th>\n",
              "      <th>Размеры</th>\n",
              "      <th>Процессор</th>\n",
              "      <th>Операционная система</th>\n",
              "      <th>Количество ядер</th>\n",
              "      <th>Количество SIM карт</th>\n",
              "      <th>Емкость аккумулятора</th>\n",
              "      <th>Разъемы</th>\n",
              "      <th>Диагональ дисплея</th>\n",
              "      <th>Разрешение экрана (пикс)</th>\n",
              "      <th>Фронтальная камера Мпикс</th>\n",
              "      <th>Объем встроенной памяти</th>\n",
              "      <th>Объем оперативной памяти</th>\n",
              "      <th>Модель</th>\n",
              "    </tr>\n",
              "  </thead>\n",
              "  <tbody>\n",
              "    <tr>\n",
              "      <th>0</th>\n",
              "      <td>Смартфон Xiaomi Redmi 11 Lite 5G 8/128GB Bubbl...</td>\n",
              "      <td>76000008857</td>\n",
              "      <td>189 990 ₸</td>\n",
              "      <td>от 5 034 ₸/мес</td>\n",
              "      <td>голубой</td>\n",
              "      <td>NaN</td>\n",
              "      <td>Qualcomm Snapdragon 732G</td>\n",
              "      <td>Android 11</td>\n",
              "      <td>8.0</td>\n",
              "      <td>2 SIM карты</td>\n",
              "      <td>4250 мАч</td>\n",
              "      <td>Type-C</td>\n",
              "      <td>NaN</td>\n",
              "      <td>NaN</td>\n",
              "      <td>16</td>\n",
              "      <td>128 Гб</td>\n",
              "      <td>8 Гб RAM</td>\n",
              "      <td>Mi 11 Lite</td>\n",
              "    </tr>\n",
              "    <tr>\n",
              "      <th>1</th>\n",
              "      <td>Смартфон Xiaomi Redmi 11 Lite 5G 8/256GB Truff...</td>\n",
              "      <td>76000008856</td>\n",
              "      <td>209 990 ₸</td>\n",
              "      <td>от 5 563 ₸/мес</td>\n",
              "      <td>чёрный</td>\n",
              "      <td>160.53 x 75.72 x 6.81 мм</td>\n",
              "      <td>Qualcomm Snapdragon 732G</td>\n",
              "      <td>Android 11</td>\n",
              "      <td>8.0</td>\n",
              "      <td>2 SIM карты</td>\n",
              "      <td>4250 мАч</td>\n",
              "      <td>Type-C</td>\n",
              "      <td>6.56\"</td>\n",
              "      <td>2400 x 1080</td>\n",
              "      <td>16</td>\n",
              "      <td>256 Гб</td>\n",
              "      <td>8 Гб RAM</td>\n",
              "      <td>Mi 11 Lite</td>\n",
              "    </tr>\n",
              "    <tr>\n",
              "      <th>2</th>\n",
              "      <td>Смартфон Xiaomi Redmi 11 Lite 5G 6/128GB Truff...</td>\n",
              "      <td>76000008854</td>\n",
              "      <td>179 990 ₸</td>\n",
              "      <td>от 4 769 ₸/мес</td>\n",
              "      <td>чёрный</td>\n",
              "      <td>160.53 x 75.72 x 6.81 мм</td>\n",
              "      <td>Snapdragon 778G</td>\n",
              "      <td>Android</td>\n",
              "      <td>6.0</td>\n",
              "      <td>2 SIM карты</td>\n",
              "      <td>4250 мАч</td>\n",
              "      <td>USB 2.0 / Type-C</td>\n",
              "      <td>6.55\"</td>\n",
              "      <td>2400 x 1080</td>\n",
              "      <td>20</td>\n",
              "      <td>128 Гб</td>\n",
              "      <td>6 Гб RAM</td>\n",
              "      <td>Mi 11 Lite</td>\n",
              "    </tr>\n",
              "    <tr>\n",
              "      <th>3</th>\n",
              "      <td>Смартфон Xiaomi Redmi 11 Lite 5G 8/128GB Truff...</td>\n",
              "      <td>76000008853</td>\n",
              "      <td>189 990 ₸</td>\n",
              "      <td>от 5 034 ₸/мес</td>\n",
              "      <td>чёрный</td>\n",
              "      <td>160.53 x 75.72 x 6.81 мм</td>\n",
              "      <td>Qualcomm Snapdragon 732G</td>\n",
              "      <td>Android 11</td>\n",
              "      <td>8.0</td>\n",
              "      <td>2 SIM карты</td>\n",
              "      <td>4250 мАч</td>\n",
              "      <td>Type-C</td>\n",
              "      <td>6.56\"</td>\n",
              "      <td>2400 x 1080</td>\n",
              "      <td>16</td>\n",
              "      <td>128 Гб</td>\n",
              "      <td>8 Гб RAM</td>\n",
              "      <td>Mi 11 Lite</td>\n",
              "    </tr>\n",
              "    <tr>\n",
              "      <th>4</th>\n",
              "      <td>Смартфон iPhone 13 mini 128GB Slim Box Pink</td>\n",
              "      <td>76000009090</td>\n",
              "      <td>434 990 ₸</td>\n",
              "      <td>от 11 525 ₸/мес</td>\n",
              "      <td>розовый</td>\n",
              "      <td>149,9 х 82,3 х 26,9 мм</td>\n",
              "      <td>A15 Bionic</td>\n",
              "      <td>iOS</td>\n",
              "      <td>6.0</td>\n",
              "      <td>1 SIM карта</td>\n",
              "      <td>NaN</td>\n",
              "      <td>Lightning</td>\n",
              "      <td>5.4</td>\n",
              "      <td>2340×1080</td>\n",
              "      <td>12</td>\n",
              "      <td>128 Гб</td>\n",
              "      <td>NaN</td>\n",
              "      <td>iPhone 13 mini</td>\n",
              "    </tr>\n",
              "    <tr>\n",
              "      <th>...</th>\n",
              "      <td>...</td>\n",
              "      <td>...</td>\n",
              "      <td>...</td>\n",
              "      <td>...</td>\n",
              "      <td>...</td>\n",
              "      <td>...</td>\n",
              "      <td>...</td>\n",
              "      <td>...</td>\n",
              "      <td>...</td>\n",
              "      <td>...</td>\n",
              "      <td>...</td>\n",
              "      <td>...</td>\n",
              "      <td>...</td>\n",
              "      <td>...</td>\n",
              "      <td>...</td>\n",
              "      <td>...</td>\n",
              "      <td>...</td>\n",
              "      <td>...</td>\n",
              "    </tr>\n",
              "    <tr>\n",
              "      <th>413</th>\n",
              "      <td>Смартфон iPhone 12 Pro 128GB Slim Box Pacific ...</td>\n",
              "      <td>76000002960</td>\n",
              "      <td>589 900 ₸</td>\n",
              "      <td>от 15 629 ₸/мес</td>\n",
              "      <td>синий</td>\n",
              "      <td>146,7 x 71,5 x 7,4 мм</td>\n",
              "      <td>Apple A14 Bionic</td>\n",
              "      <td>iOS 14</td>\n",
              "      <td>NaN</td>\n",
              "      <td>NaN</td>\n",
              "      <td>NaN</td>\n",
              "      <td>USB 2.0</td>\n",
              "      <td>NaN</td>\n",
              "      <td>2532 х 1170 Пикс</td>\n",
              "      <td>да / двойная / 12 / HDR / gyro EIS / TOF 3D ca...</td>\n",
              "      <td>128 Гб</td>\n",
              "      <td>NaN</td>\n",
              "      <td>iPhone 12 Pro</td>\n",
              "    </tr>\n",
              "    <tr>\n",
              "      <th>414</th>\n",
              "      <td>Смартфон iPhone 12 Pro 256GB Slim Box Gold</td>\n",
              "      <td>76000002964</td>\n",
              "      <td>649 890 ₸</td>\n",
              "      <td>от 17 218 ₸/мес</td>\n",
              "      <td>золотистый</td>\n",
              "      <td>146,7 x 71,5 x 7,4 мм</td>\n",
              "      <td>Apple A14 Bionic</td>\n",
              "      <td>iOS 14</td>\n",
              "      <td>NaN</td>\n",
              "      <td>NaN</td>\n",
              "      <td>NaN</td>\n",
              "      <td>USB 2.0</td>\n",
              "      <td>NaN</td>\n",
              "      <td>2532 х 1170 Пикс</td>\n",
              "      <td>да / двойная / 12 / HDR / gyro EIS / TOF 3D ca...</td>\n",
              "      <td>256 Гб</td>\n",
              "      <td>NaN</td>\n",
              "      <td>iPhone 12 Pro</td>\n",
              "    </tr>\n",
              "    <tr>\n",
              "      <th>415</th>\n",
              "      <td>Смартфон iPhone 12 Pro 128GB Slim Box Gold</td>\n",
              "      <td>76000002959</td>\n",
              "      <td>589 900 ₸</td>\n",
              "      <td>от 15 629 ₸/мес</td>\n",
              "      <td>золотистый</td>\n",
              "      <td>146,7 x 71,5 x 7,4 мм</td>\n",
              "      <td>Apple A14 Bionic</td>\n",
              "      <td>iOS 14</td>\n",
              "      <td>NaN</td>\n",
              "      <td>NaN</td>\n",
              "      <td>NaN</td>\n",
              "      <td>USB 2.0</td>\n",
              "      <td>6.1\"</td>\n",
              "      <td>2532 х 1170 Пикс</td>\n",
              "      <td>да / двойная / 12 / HDR / gyro EIS / TOF 3D ca...</td>\n",
              "      <td>128 Гб</td>\n",
              "      <td>NaN</td>\n",
              "      <td>iPhone 12 Pro</td>\n",
              "    </tr>\n",
              "    <tr>\n",
              "      <th>416</th>\n",
              "      <td>Смартфон iPhone 12 Pro 256GB Slim Box Graphite</td>\n",
              "      <td>76000002961</td>\n",
              "      <td>649 890 ₸</td>\n",
              "      <td>от 17 218 ₸/мес</td>\n",
              "      <td>серый</td>\n",
              "      <td>146,7 x 71,5 x 7,4 мм</td>\n",
              "      <td>Apple A14 Bionic</td>\n",
              "      <td>iOS 14</td>\n",
              "      <td>NaN</td>\n",
              "      <td>NaN</td>\n",
              "      <td>NaN</td>\n",
              "      <td>USB 2.0</td>\n",
              "      <td>NaN</td>\n",
              "      <td>2532 х 1170 Пикс</td>\n",
              "      <td>NaN</td>\n",
              "      <td>256 Гб</td>\n",
              "      <td>NaN</td>\n",
              "      <td>iPhone 12 Pro</td>\n",
              "    </tr>\n",
              "    <tr>\n",
              "      <th>417</th>\n",
              "      <td>Смартфон iPhone 12 mini 128GB Slim Box Blue</td>\n",
              "      <td>76000002940</td>\n",
              "      <td>394 890 ₸</td>\n",
              "      <td>от 10 462 ₸/мес</td>\n",
              "      <td>синий</td>\n",
              "      <td>131,5 x 64,2 x 7,4 мм</td>\n",
              "      <td>Apple A14 Bionic</td>\n",
              "      <td>iOS 14</td>\n",
              "      <td>NaN</td>\n",
              "      <td>NaN</td>\n",
              "      <td>NaN</td>\n",
              "      <td>USB 2.0</td>\n",
              "      <td>5.45\"</td>\n",
              "      <td>NaN</td>\n",
              "      <td>да / двойная / 12 / HDR / gyro EIS</td>\n",
              "      <td>128 Гб</td>\n",
              "      <td>NaN</td>\n",
              "      <td>iPhone 12 mini</td>\n",
              "    </tr>\n",
              "  </tbody>\n",
              "</table>\n",
              "<p>418 rows × 18 columns</p>\n",
              "</div>"
            ],
            "text/plain": [
              "                                       Названия товара  ...          Модель\n",
              "0    Смартфон Xiaomi Redmi 11 Lite 5G 8/128GB Bubbl...  ...      Mi 11 Lite\n",
              "1    Смартфон Xiaomi Redmi 11 Lite 5G 8/256GB Truff...  ...      Mi 11 Lite\n",
              "2    Смартфон Xiaomi Redmi 11 Lite 5G 6/128GB Truff...  ...      Mi 11 Lite\n",
              "3    Смартфон Xiaomi Redmi 11 Lite 5G 8/128GB Truff...  ...      Mi 11 Lite\n",
              "4          Смартфон iPhone 13 mini 128GB Slim Box Pink  ...  iPhone 13 mini\n",
              "..                                                 ...  ...             ...\n",
              "413  Смартфон iPhone 12 Pro 128GB Slim Box Pacific ...  ...   iPhone 12 Pro\n",
              "414         Смартфон iPhone 12 Pro 256GB Slim Box Gold  ...   iPhone 12 Pro\n",
              "415         Смартфон iPhone 12 Pro 128GB Slim Box Gold  ...   iPhone 12 Pro\n",
              "416     Смартфон iPhone 12 Pro 256GB Slim Box Graphite  ...   iPhone 12 Pro\n",
              "417        Смартфон iPhone 12 mini 128GB Slim Box Blue  ...  iPhone 12 mini\n",
              "\n",
              "[418 rows x 18 columns]"
            ]
          },
          "metadata": {},
          "execution_count": 3
        }
      ]
    },
    {
      "cell_type": "code",
      "metadata": {
        "id": "lZmIHb390BMI",
        "colab": {
          "base_uri": "https://localhost:8080/"
        },
        "outputId": "42c8ddbc-9e1e-4470-da00-f235a13e690a"
      },
      "source": [
        "from google.colab import drive\n",
        "drive.mount('/content/gdrive')\n"
      ],
      "execution_count": null,
      "outputs": [
        {
          "output_type": "stream",
          "name": "stdout",
          "text": [
            "Mounted at /content/gdrive\n"
          ]
        }
      ]
    },
    {
      "cell_type": "code",
      "metadata": {
        "colab": {
          "base_uri": "https://localhost:8080/",
          "height": 16
        },
        "id": "AmYAz_Gf4aht",
        "outputId": "093f8918-9e32-4cf2-d46a-83081fc11330"
      },
      "source": [
        "from google.colab import files\n",
        "files.download('mobiles-2.csv')"
      ],
      "execution_count": null,
      "outputs": [
        {
          "output_type": "display_data",
          "data": {
            "application/javascript": [
              "\n",
              "    async function download(id, filename, size) {\n",
              "      if (!google.colab.kernel.accessAllowed) {\n",
              "        return;\n",
              "      }\n",
              "      const div = document.createElement('div');\n",
              "      const label = document.createElement('label');\n",
              "      label.textContent = `Downloading \"${filename}\": `;\n",
              "      div.appendChild(label);\n",
              "      const progress = document.createElement('progress');\n",
              "      progress.max = size;\n",
              "      div.appendChild(progress);\n",
              "      document.body.appendChild(div);\n",
              "\n",
              "      const buffers = [];\n",
              "      let downloaded = 0;\n",
              "\n",
              "      const channel = await google.colab.kernel.comms.open(id);\n",
              "      // Send a message to notify the kernel that we're ready.\n",
              "      channel.send({})\n",
              "\n",
              "      for await (const message of channel.messages) {\n",
              "        // Send a message to notify the kernel that we're ready.\n",
              "        channel.send({})\n",
              "        if (message.buffers) {\n",
              "          for (const buffer of message.buffers) {\n",
              "            buffers.push(buffer);\n",
              "            downloaded += buffer.byteLength;\n",
              "            progress.value = downloaded;\n",
              "          }\n",
              "        }\n",
              "      }\n",
              "      const blob = new Blob(buffers, {type: 'application/binary'});\n",
              "      const a = document.createElement('a');\n",
              "      a.href = window.URL.createObjectURL(blob);\n",
              "      a.download = filename;\n",
              "      div.appendChild(a);\n",
              "      a.click();\n",
              "      div.remove();\n",
              "    }\n",
              "  "
            ],
            "text/plain": [
              "<IPython.core.display.Javascript object>"
            ]
          },
          "metadata": {}
        },
        {
          "output_type": "display_data",
          "data": {
            "application/javascript": [
              "download(\"download_db52c93e-d027-44bb-8a61-e29777192738\", \"mobiles-2.csv\", 116552)"
            ],
            "text/plain": [
              "<IPython.core.display.Javascript object>"
            ]
          },
          "metadata": {}
        }
      ]
    },
    {
      "cell_type": "code",
      "metadata": {
        "id": "koMdSfna747h"
      },
      "source": [
        "# Let's make some prediction\n",
        "dataset=pd.read_csv('mobiles-2.csv')"
      ],
      "execution_count": null,
      "outputs": []
    },
    {
      "cell_type": "code",
      "metadata": {
        "colab": {
          "base_uri": "https://localhost:8080/",
          "height": 672
        },
        "id": "dB2n0ktQ8o54",
        "outputId": "e42e163f-bce1-4db1-badf-dd1c363b93e1"
      },
      "source": [
        "dataset.head()"
      ],
      "execution_count": null,
      "outputs": [
        {
          "output_type": "execute_result",
          "data": {
            "text/html": [
              "<div>\n",
              "<style scoped>\n",
              "    .dataframe tbody tr th:only-of-type {\n",
              "        vertical-align: middle;\n",
              "    }\n",
              "\n",
              "    .dataframe tbody tr th {\n",
              "        vertical-align: top;\n",
              "    }\n",
              "\n",
              "    .dataframe thead th {\n",
              "        text-align: right;\n",
              "    }\n",
              "</style>\n",
              "<table border=\"1\" class=\"dataframe\">\n",
              "  <thead>\n",
              "    <tr style=\"text-align: right;\">\n",
              "      <th></th>\n",
              "      <th>Названия товара</th>\n",
              "      <th>Код товара</th>\n",
              "      <th>Цена</th>\n",
              "      <th>Кредит/Рассрочка</th>\n",
              "      <th>Цвет</th>\n",
              "      <th>Размеры</th>\n",
              "      <th>Процессор</th>\n",
              "      <th>Операционная система</th>\n",
              "      <th>Количество ядер</th>\n",
              "      <th>Количество SIM карт</th>\n",
              "      <th>Емкость аккумулятора</th>\n",
              "      <th>Разъемы</th>\n",
              "      <th>Диагональ дисплея</th>\n",
              "      <th>Разрешение экрана (пикс)</th>\n",
              "      <th>Фронтальная камера Мпикс</th>\n",
              "      <th>Объем встроенной памяти</th>\n",
              "      <th>Объем оперативной памяти</th>\n",
              "      <th>Модель</th>\n",
              "    </tr>\n",
              "  </thead>\n",
              "  <tbody>\n",
              "    <tr>\n",
              "      <th>0</th>\n",
              "      <td>Смартфон Xiaomi Redmi 11 Lite 5G 8/128GB Bubbl...</td>\n",
              "      <td>76000008857</td>\n",
              "      <td>189 990 ₸</td>\n",
              "      <td>от 5 034 ₸/мес</td>\n",
              "      <td>голубой</td>\n",
              "      <td>NaN</td>\n",
              "      <td>Qualcomm Snapdragon 732G</td>\n",
              "      <td>Android 11</td>\n",
              "      <td>8.0</td>\n",
              "      <td>2 SIM карты</td>\n",
              "      <td>4250 мАч</td>\n",
              "      <td>Type-C</td>\n",
              "      <td>NaN</td>\n",
              "      <td>NaN</td>\n",
              "      <td>16</td>\n",
              "      <td>128 Гб</td>\n",
              "      <td>8 Гб RAM</td>\n",
              "      <td>Mi 11 Lite</td>\n",
              "    </tr>\n",
              "    <tr>\n",
              "      <th>1</th>\n",
              "      <td>Смартфон Xiaomi Redmi 11 Lite 5G 8/256GB Truff...</td>\n",
              "      <td>76000008856</td>\n",
              "      <td>209 990 ₸</td>\n",
              "      <td>от 5 563 ₸/мес</td>\n",
              "      <td>чёрный</td>\n",
              "      <td>160.53 x 75.72 x 6.81 мм</td>\n",
              "      <td>Qualcomm Snapdragon 732G</td>\n",
              "      <td>Android 11</td>\n",
              "      <td>8.0</td>\n",
              "      <td>2 SIM карты</td>\n",
              "      <td>4250 мАч</td>\n",
              "      <td>Type-C</td>\n",
              "      <td>6.56\"</td>\n",
              "      <td>2400 x 1080</td>\n",
              "      <td>16</td>\n",
              "      <td>256 Гб</td>\n",
              "      <td>8 Гб RAM</td>\n",
              "      <td>Mi 11 Lite</td>\n",
              "    </tr>\n",
              "    <tr>\n",
              "      <th>2</th>\n",
              "      <td>Смартфон Xiaomi Redmi 11 Lite 5G 6/128GB Truff...</td>\n",
              "      <td>76000008854</td>\n",
              "      <td>179 990 ₸</td>\n",
              "      <td>от 4 769 ₸/мес</td>\n",
              "      <td>чёрный</td>\n",
              "      <td>160.53 x 75.72 x 6.81 мм</td>\n",
              "      <td>Snapdragon 778G</td>\n",
              "      <td>Android</td>\n",
              "      <td>6.0</td>\n",
              "      <td>2 SIM карты</td>\n",
              "      <td>4250 мАч</td>\n",
              "      <td>USB 2.0 / Type-C</td>\n",
              "      <td>6.55\"</td>\n",
              "      <td>2400 x 1080</td>\n",
              "      <td>20</td>\n",
              "      <td>128 Гб</td>\n",
              "      <td>6 Гб RAM</td>\n",
              "      <td>Mi 11 Lite</td>\n",
              "    </tr>\n",
              "    <tr>\n",
              "      <th>3</th>\n",
              "      <td>Смартфон Xiaomi Redmi 11 Lite 5G 8/128GB Truff...</td>\n",
              "      <td>76000008853</td>\n",
              "      <td>189 990 ₸</td>\n",
              "      <td>от 5 034 ₸/мес</td>\n",
              "      <td>чёрный</td>\n",
              "      <td>160.53 x 75.72 x 6.81 мм</td>\n",
              "      <td>Qualcomm Snapdragon 732G</td>\n",
              "      <td>Android 11</td>\n",
              "      <td>8.0</td>\n",
              "      <td>2 SIM карты</td>\n",
              "      <td>4250 мАч</td>\n",
              "      <td>Type-C</td>\n",
              "      <td>6.56\"</td>\n",
              "      <td>2400 x 1080</td>\n",
              "      <td>16</td>\n",
              "      <td>128 Гб</td>\n",
              "      <td>8 Гб RAM</td>\n",
              "      <td>Mi 11 Lite</td>\n",
              "    </tr>\n",
              "    <tr>\n",
              "      <th>4</th>\n",
              "      <td>Смартфон iPhone 13 mini 128GB Slim Box Pink</td>\n",
              "      <td>76000009090</td>\n",
              "      <td>434 990 ₸</td>\n",
              "      <td>от 11 525 ₸/мес</td>\n",
              "      <td>розовый</td>\n",
              "      <td>149,9 х 82,3 х 26,9 мм</td>\n",
              "      <td>A15 Bionic</td>\n",
              "      <td>iOS</td>\n",
              "      <td>6.0</td>\n",
              "      <td>1 SIM карта</td>\n",
              "      <td>NaN</td>\n",
              "      <td>Lightning</td>\n",
              "      <td>5.4</td>\n",
              "      <td>2340×1080</td>\n",
              "      <td>12</td>\n",
              "      <td>128 Гб</td>\n",
              "      <td>NaN</td>\n",
              "      <td>iPhone 13 mini</td>\n",
              "    </tr>\n",
              "  </tbody>\n",
              "</table>\n",
              "</div>"
            ],
            "text/plain": [
              "                                     Названия товара  ...          Модель\n",
              "0  Смартфон Xiaomi Redmi 11 Lite 5G 8/128GB Bubbl...  ...      Mi 11 Lite\n",
              "1  Смартфон Xiaomi Redmi 11 Lite 5G 8/256GB Truff...  ...      Mi 11 Lite\n",
              "2  Смартфон Xiaomi Redmi 11 Lite 5G 6/128GB Truff...  ...      Mi 11 Lite\n",
              "3  Смартфон Xiaomi Redmi 11 Lite 5G 8/128GB Truff...  ...      Mi 11 Lite\n",
              "4        Смартфон iPhone 13 mini 128GB Slim Box Pink  ...  iPhone 13 mini\n",
              "\n",
              "[5 rows x 18 columns]"
            ]
          },
          "metadata": {},
          "execution_count": 7
        }
      ]
    },
    {
      "cell_type": "code",
      "metadata": {
        "colab": {
          "base_uri": "https://localhost:8080/"
        },
        "id": "CjhZW5G28tkd",
        "outputId": "e8aa403e-d4de-461d-fbd4-b42f8d049969"
      },
      "source": [
        "dataset.info()"
      ],
      "execution_count": null,
      "outputs": [
        {
          "output_type": "stream",
          "name": "stdout",
          "text": [
            "<class 'pandas.core.frame.DataFrame'>\n",
            "RangeIndex: 418 entries, 0 to 417\n",
            "Data columns (total 18 columns):\n",
            " #   Column                    Non-Null Count  Dtype  \n",
            "---  ------                    --------------  -----  \n",
            " 0   Названия товара           418 non-null    object \n",
            " 1   Код товара                418 non-null    object \n",
            " 2   Цена                      418 non-null    object \n",
            " 3   Кредит/Рассрочка          418 non-null    object \n",
            " 4   Цвет                      418 non-null    object \n",
            " 5   Размеры                   407 non-null    object \n",
            " 6   Процессор                 380 non-null    object \n",
            " 7   Операционная система      414 non-null    object \n",
            " 8   Количество ядер           190 non-null    float64\n",
            " 9   Количество SIM карт       185 non-null    object \n",
            " 10  Емкость аккумулятора      348 non-null    object \n",
            " 11  Разъемы                   389 non-null    object \n",
            " 12  Диагональ дисплея         312 non-null    object \n",
            " 13  Разрешение экрана (пикс)  406 non-null    object \n",
            " 14  Фронтальная камера Мпикс  306 non-null    object \n",
            " 15  Объем встроенной памяти   417 non-null    object \n",
            " 16  Объем оперативной памяти  178 non-null    object \n",
            " 17  Модель                    408 non-null    object \n",
            "dtypes: float64(1), object(17)\n",
            "memory usage: 58.9+ KB\n"
          ]
        }
      ]
    },
    {
      "cell_type": "code",
      "metadata": {
        "colab": {
          "base_uri": "https://localhost:8080/",
          "height": 294
        },
        "id": "HUP2GI8j8146",
        "outputId": "197909e2-6afc-4163-970d-6279b66da967"
      },
      "source": [
        "dataset.describe()\n"
      ],
      "execution_count": null,
      "outputs": [
        {
          "output_type": "execute_result",
          "data": {
            "text/html": [
              "<div>\n",
              "<style scoped>\n",
              "    .dataframe tbody tr th:only-of-type {\n",
              "        vertical-align: middle;\n",
              "    }\n",
              "\n",
              "    .dataframe tbody tr th {\n",
              "        vertical-align: top;\n",
              "    }\n",
              "\n",
              "    .dataframe thead th {\n",
              "        text-align: right;\n",
              "    }\n",
              "</style>\n",
              "<table border=\"1\" class=\"dataframe\">\n",
              "  <thead>\n",
              "    <tr style=\"text-align: right;\">\n",
              "      <th></th>\n",
              "      <th>Количество ядер</th>\n",
              "    </tr>\n",
              "  </thead>\n",
              "  <tbody>\n",
              "    <tr>\n",
              "      <th>count</th>\n",
              "      <td>190.000000</td>\n",
              "    </tr>\n",
              "    <tr>\n",
              "      <th>mean</th>\n",
              "      <td>7.715789</td>\n",
              "    </tr>\n",
              "    <tr>\n",
              "      <th>std</th>\n",
              "      <td>0.785627</td>\n",
              "    </tr>\n",
              "    <tr>\n",
              "      <th>min</th>\n",
              "      <td>4.000000</td>\n",
              "    </tr>\n",
              "    <tr>\n",
              "      <th>25%</th>\n",
              "      <td>8.000000</td>\n",
              "    </tr>\n",
              "    <tr>\n",
              "      <th>50%</th>\n",
              "      <td>8.000000</td>\n",
              "    </tr>\n",
              "    <tr>\n",
              "      <th>75%</th>\n",
              "      <td>8.000000</td>\n",
              "    </tr>\n",
              "    <tr>\n",
              "      <th>max</th>\n",
              "      <td>8.000000</td>\n",
              "    </tr>\n",
              "  </tbody>\n",
              "</table>\n",
              "</div>"
            ],
            "text/plain": [
              "       Количество ядер\n",
              "count       190.000000\n",
              "mean          7.715789\n",
              "std           0.785627\n",
              "min           4.000000\n",
              "25%           8.000000\n",
              "50%           8.000000\n",
              "75%           8.000000\n",
              "max           8.000000"
            ]
          },
          "metadata": {},
          "execution_count": 9
        }
      ]
    },
    {
      "cell_type": "code",
      "metadata": {
        "id": "FLG54_wTCAOK"
      },
      "source": [
        "spec_chars = [\"!\",'\"',\"#\",\"%\",\"&\",\"'\",\"(\",\")\",\n",
        "              \"*\",\"+\",\",\",\"-\",\".\",\"/\",\":\",\";\",\"<\",\n",
        "              \"=\",\">\",\"?\",\"@\",\"[\",\"\\\\\",\"]\",\"^\",\"_\",\n",
        "              \"`\",\"{\",\"|\",\"}\",\"~\",\"–\", \"₸\"]\n",
        "for char in spec_chars:\n",
        "    dataset['Цена'] = dataset['Цена'].str.replace(char, ' ')\n",
        "\n",
        "dataset['Цена'] = dataset['Цена'].str.replace(\" \", \"\")"
      ],
      "execution_count": null,
      "outputs": []
    },
    {
      "cell_type": "code",
      "metadata": {
        "colab": {
          "base_uri": "https://localhost:8080/"
        },
        "id": "z4LwE-ZRGSmD",
        "outputId": "e311444c-12c2-418b-d088-ebab5896c8b9"
      },
      "source": [
        "dataset['Цена']"
      ],
      "execution_count": null,
      "outputs": [
        {
          "output_type": "execute_result",
          "data": {
            "text/plain": [
              "0      189990\n",
              "1      209990\n",
              "2      179990\n",
              "3      189990\n",
              "4      434990\n",
              "        ...  \n",
              "413    589900\n",
              "414    649890\n",
              "415    589900\n",
              "416    649890\n",
              "417    394890\n",
              "Name: Цена, Length: 418, dtype: object"
            ]
          },
          "metadata": {},
          "execution_count": 32
        }
      ]
    },
    {
      "cell_type": "code",
      "metadata": {
        "id": "eAl1MjA3Gsa_"
      },
      "source": [
        "# Here our Цена is an object that means a string actually. \n",
        "# Do we really want to consider our prices as strings? \n",
        "# We will prefer to use floats for the prices, we just need to convert the column type."
      ],
      "execution_count": null,
      "outputs": []
    },
    {
      "cell_type": "code",
      "metadata": {
        "id": "6a9SfWuwG5LZ"
      },
      "source": [
        "dataset['Цена'] = pd.to_numeric(dataset['Цена'], errors='coerce')"
      ],
      "execution_count": null,
      "outputs": []
    },
    {
      "cell_type": "code",
      "metadata": {
        "id": "68bet3L4HDLh",
        "colab": {
          "base_uri": "https://localhost:8080/"
        },
        "outputId": "48b5c6e5-8c95-44bb-abbf-1f27705458b2"
      },
      "source": [
        "dataset.info()"
      ],
      "execution_count": null,
      "outputs": [
        {
          "output_type": "stream",
          "name": "stdout",
          "text": [
            "<class 'pandas.core.frame.DataFrame'>\n",
            "RangeIndex: 418 entries, 0 to 417\n",
            "Data columns (total 18 columns):\n",
            " #   Column                    Non-Null Count  Dtype  \n",
            "---  ------                    --------------  -----  \n",
            " 0   Названия товара           418 non-null    object \n",
            " 1   Код товара                418 non-null    object \n",
            " 2   Цена                      418 non-null    int64  \n",
            " 3   Кредит/Рассрочка          418 non-null    object \n",
            " 4   Цвет                      418 non-null    object \n",
            " 5   Размеры                   407 non-null    object \n",
            " 6   Процессор                 380 non-null    object \n",
            " 7   Операционная система      414 non-null    object \n",
            " 8   Количество ядер           190 non-null    float64\n",
            " 9   Количество SIM карт       185 non-null    object \n",
            " 10  Емкость аккумулятора      348 non-null    object \n",
            " 11  Разъемы                   389 non-null    object \n",
            " 12  Диагональ дисплея         312 non-null    object \n",
            " 13  Разрешение экрана (пикс)  406 non-null    object \n",
            " 14  Фронтальная камера Мпикс  306 non-null    object \n",
            " 15  Объем встроенной памяти   417 non-null    object \n",
            " 16  Объем оперативной памяти  178 non-null    object \n",
            " 17  Модель                    408 non-null    object \n",
            "dtypes: float64(1), int64(1), object(16)\n",
            "memory usage: 58.9+ KB\n"
          ]
        }
      ]
    }
  ]
}